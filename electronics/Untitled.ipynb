{
 "cells": [
  {
   "cell_type": "code",
   "execution_count": 42,
   "id": "444445d8-d8a2-41e6-b976-8b57070acb50",
   "metadata": {},
   "outputs": [],
   "source": [
    "import matplotlib.pyplot as plt\n",
    "from scipy.optimize import curve_fit\n",
    "from numpy import float64\n",
    "import pandas as pd\n",
    "\n",
    "\n",
    "class Translator:\n",
    "    def __init__(self, xdata, ydata):\n",
    "        self.xdata = xdata\n",
    "        self.ydata = ydata\n",
    "        self._popt, pcov = curve_fit(self.func, self.xdata, self.ydata)\n",
    "\n",
    "    def freq2digits(self, freq):\n",
    "        return self.counter_func(freq, *self._popt)\n",
    "\n",
    "    @staticmethod\n",
    "    def func(x, m, t):\n",
    "        return m * x + t\n",
    "\n",
    "    @staticmethod\n",
    "    def counter_func(y, m, t):\n",
    "        return (y-t)/m\n",
    "\n",
    "    @property\n",
    "    def popt(self):\n",
    "        return self._popt\n",
    "    \n",
    "    def print_func(self):\n",
    "        return f\"y = f(x) = {self._popt[0]}*x + {self._popt[1]}\"\n",
    "\n",
    "    def plot_data_against_approximation(self):\n",
    "        plt.plot(self.xdata, self.func(float64(self.xdata), *self._popt), 'r', label='approximation')\n",
    "        plt.plot(self.xdata, self.ydata, 'b-', label='data')\n",
    "        plt.legend()"
   ]
  },
  {
   "cell_type": "code",
   "execution_count": 43,
   "id": "38c5b27e-fa41-4cc0-b16a-9cdbea744e8e",
   "metadata": {},
   "outputs": [],
   "source": [
    "df = pd.read_csv(\"adc.raw\")"
   ]
  },
  {
   "cell_type": "code",
   "execution_count": 44,
   "id": "8750b5c8-c59c-40fd-be90-cffe536a4cbf",
   "metadata": {},
   "outputs": [
    {
     "data": {
      "text/html": [
       "<div>\n",
       "<style scoped>\n",
       "    .dataframe tbody tr th:only-of-type {\n",
       "        vertical-align: middle;\n",
       "    }\n",
       "\n",
       "    .dataframe tbody tr th {\n",
       "        vertical-align: top;\n",
       "    }\n",
       "\n",
       "    .dataframe thead th {\n",
       "        text-align: right;\n",
       "    }\n",
       "</style>\n",
       "<table border=\"1\" class=\"dataframe\">\n",
       "  <thead>\n",
       "    <tr style=\"text-align: right;\">\n",
       "      <th></th>\n",
       "      <th>voltage</th>\n",
       "      <th>adc_raw</th>\n",
       "    </tr>\n",
       "  </thead>\n",
       "  <tbody>\n",
       "    <tr>\n",
       "      <th>0</th>\n",
       "      <td>0.0</td>\n",
       "      <td>19</td>\n",
       "    </tr>\n",
       "    <tr>\n",
       "      <th>1</th>\n",
       "      <td>0.2</td>\n",
       "      <td>63</td>\n",
       "    </tr>\n",
       "    <tr>\n",
       "      <th>2</th>\n",
       "      <td>0.4</td>\n",
       "      <td>105</td>\n",
       "    </tr>\n",
       "    <tr>\n",
       "      <th>3</th>\n",
       "      <td>0.6</td>\n",
       "      <td>152</td>\n",
       "    </tr>\n",
       "    <tr>\n",
       "      <th>4</th>\n",
       "      <td>0.8</td>\n",
       "      <td>196</td>\n",
       "    </tr>\n",
       "  </tbody>\n",
       "</table>\n",
       "</div>"
      ],
      "text/plain": [
       "   voltage  adc_raw\n",
       "0      0.0       19\n",
       "1      0.2       63\n",
       "2      0.4      105\n",
       "3      0.6      152\n",
       "4      0.8      196"
      ]
     },
     "execution_count": 44,
     "metadata": {},
     "output_type": "execute_result"
    }
   ],
   "source": [
    "df.head()"
   ]
  },
  {
   "cell_type": "code",
   "execution_count": 45,
   "id": "1bb3599d-7ca9-4f05-98e2-9f7483b444c9",
   "metadata": {},
   "outputs": [],
   "source": [
    "xdata = df[\"adc_raw\"].to_list()\n",
    "ydata = df[\"voltage\"].to_list()\n",
    "t = Translator(xdata, ydata)"
   ]
  },
  {
   "cell_type": "code",
   "execution_count": 46,
   "id": "c83ca058-bd75-4c49-993e-a415a1829315",
   "metadata": {},
   "outputs": [
    {
     "data": {
      "text/plain": [
       "'y = f(x) = 0.004556406962632479*x + -0.08625346649966133'"
      ]
     },
     "execution_count": 46,
     "metadata": {},
     "output_type": "execute_result"
    }
   ],
   "source": [
    "t.print_func()"
   ]
  },
  {
   "cell_type": "code",
   "execution_count": 34,
   "id": "961c9e93-73ea-4db4-b198-564bb45d052c",
   "metadata": {},
   "outputs": [
    {
     "data": {
      "image/png": "[encoded data removed]",
      "text/plain": [
       "<Figure size 640x480 with 1 Axes>"
      ]
     },
     "metadata": {},
     "output_type": "display_data"
    }
   ],
   "source": [
    "t.plot_data_against_approximation()"
   ]
  },
  {
   "cell_type": "code",
   "execution_count": null,
   "id": "7e847d49-09d1-472d-9aba-532309e45c3b",
   "metadata": {},
   "outputs": [],
   "source": []
  }
 ],
 "metadata": {
  "kernelspec": {
   "display_name": "Python 3 (ipykernel)",
   "language": "python",
   "name": "python3"
  },
  "language_info": {
   "codemirror_mode": {
    "name": "ipython",
    "version": 3
   },
   "file_extension": ".py",
   "mimetype": "text/x-python",
   "name": "python",
   "nbconvert_exporter": "python",
   "pygments_lexer": "ipython3",
   "version": "3.9.12"
  }
 },
 "nbformat": 4,
 "nbformat_minor": 5
}
